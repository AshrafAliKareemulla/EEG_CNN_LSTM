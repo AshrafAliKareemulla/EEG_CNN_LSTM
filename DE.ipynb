{
 "cells": [
  {
   "cell_type": "code",
   "execution_count": 6,
   "id": "1d1f9f79",
   "metadata": {},
   "outputs": [],
   "source": [
    "import numpy as np\n",
    "\n",
    "\n",
    "# Define frequency bands\n",
    "delta_band = (1, 3)\n",
    "theta_band = (4, 7)\n",
    "alpha_band = (8, 13)\n",
    "beta_band = (14, 30)\n",
    "gamma_band = (31, 50)\n",
    "\n",
    "# Function to calculate differential entropy\n",
    "def differential_entropy(signal):\n",
    "    sigma = np.std(signal)\n",
    "    return 0.5 * np.log(2 * np.pi * np.e * sigma**2)\n",
    "\n",
    "# Function to split EEG signal into frequency bands and calculate differential Entropy for each band\n",
    "def split_signal_into_bands_and_apen(eeg_signal, fs):\n",
    "    # Perform Fourier transform to get frequency spectrum\n",
    "    fft_signal = np.fft.fft(eeg_signal)\n",
    "    frequencies = np.fft.fftfreq(len(eeg_signal), 1/fs)\n",
    "    freq_spectrum = np.abs(fft_signal)\n",
    "    \n",
    "    # Initialize arrays to store band power\n",
    "    delta_power = np.zeros_like(eeg_signal)\n",
    "    theta_power = np.zeros_like(eeg_signal)\n",
    "    alpha_power = np.zeros_like(eeg_signal)\n",
    "    beta_power = np.zeros_like(eeg_signal)\n",
    "    gamma_power = np.zeros_like(eeg_signal)\n",
    "    \n",
    "    # Find indices corresponding to frequency bands\n",
    "    delta_indices = np.where((frequencies >= delta_band[0]) & (frequencies <= delta_band[1]))[0]\n",
    "    theta_indices = np.where((frequencies >= theta_band[0]) & (frequencies <= theta_band[1]))[0]\n",
    "    alpha_indices = np.where((frequencies >= alpha_band[0]) & (frequencies <= alpha_band[1]))[0]\n",
    "    beta_indices = np.where((frequencies >= beta_band[0]) & (frequencies <= beta_band[1]))[0]\n",
    "    gamma_indices = np.where((frequencies >= gamma_band[0]) & (frequencies <= gamma_band[1]))[0]\n",
    "    \n",
    "    # Calculate differential Entropy for each frequency band\n",
    "    delta_diff = differential_entropy(freq_spectrum[delta_indices])\n",
    "    theta_diff = differential_entropy(freq_spectrum[theta_indices])\n",
    "    alpha_diff = differential_entropy(freq_spectrum[alpha_indices])\n",
    "    beta_diff = differential_entropy(freq_spectrum[beta_indices])\n",
    "    gamma_diff = differential_entropy(freq_spectrum[gamma_indices])\n",
    "    \n",
    "    # Return differential Entropy values for each band\n",
    "    return [delta_diff, theta_diff, alpha_diff, beta_diff, gamma_diff]"
   ]
  },
  {
   "cell_type": "code",
   "execution_count": 7,
   "id": "d7de0d4c",
   "metadata": {},
   "outputs": [
    {
     "name": "stdout",
     "output_type": "stream",
     "text": [
      "E:/IIIT Sri City/SEMESTER - 6/BCI/PROJECT/Seed_Dataset/10_20131130.mat\n",
      "E:/IIIT Sri City/SEMESTER - 6/BCI/PROJECT/Seed_Dataset/10_20131204.mat\n",
      "E:/IIIT Sri City/SEMESTER - 6/BCI/PROJECT/Seed_Dataset/10_20131211.mat\n",
      "E:/IIIT Sri City/SEMESTER - 6/BCI/PROJECT/Seed_Dataset/11_20140618.mat\n",
      "E:/IIIT Sri City/SEMESTER - 6/BCI/PROJECT/Seed_Dataset/11_20140625.mat\n",
      "E:/IIIT Sri City/SEMESTER - 6/BCI/PROJECT/Seed_Dataset/11_20140630.mat\n",
      "E:/IIIT Sri City/SEMESTER - 6/BCI/PROJECT/Seed_Dataset/12_20131127.mat\n",
      "E:/IIIT Sri City/SEMESTER - 6/BCI/PROJECT/Seed_Dataset/12_20131201.mat\n",
      "E:/IIIT Sri City/SEMESTER - 6/BCI/PROJECT/Seed_Dataset/12_20131207.mat\n",
      "E:/IIIT Sri City/SEMESTER - 6/BCI/PROJECT/Seed_Dataset/13_20140527.mat\n",
      "E:/IIIT Sri City/SEMESTER - 6/BCI/PROJECT/Seed_Dataset/13_20140603.mat\n",
      "E:/IIIT Sri City/SEMESTER - 6/BCI/PROJECT/Seed_Dataset/13_20140610.mat\n",
      "E:/IIIT Sri City/SEMESTER - 6/BCI/PROJECT/Seed_Dataset/14_20140601.mat\n",
      "E:/IIIT Sri City/SEMESTER - 6/BCI/PROJECT/Seed_Dataset/14_20140615.mat\n",
      "E:/IIIT Sri City/SEMESTER - 6/BCI/PROJECT/Seed_Dataset/14_20140627.mat\n",
      "E:/IIIT Sri City/SEMESTER - 6/BCI/PROJECT/Seed_Dataset/15_20130709.mat\n",
      "E:/IIIT Sri City/SEMESTER - 6/BCI/PROJECT/Seed_Dataset/15_20131016.mat\n",
      "E:/IIIT Sri City/SEMESTER - 6/BCI/PROJECT/Seed_Dataset/15_20131105.mat\n",
      "E:/IIIT Sri City/SEMESTER - 6/BCI/PROJECT/Seed_Dataset/1_20131027.mat\n",
      "E:/IIIT Sri City/SEMESTER - 6/BCI/PROJECT/Seed_Dataset/1_20131030.mat\n",
      "E:/IIIT Sri City/SEMESTER - 6/BCI/PROJECT/Seed_Dataset/1_20131107.mat\n",
      "E:/IIIT Sri City/SEMESTER - 6/BCI/PROJECT/Seed_Dataset/2_20140404.mat\n",
      "E:/IIIT Sri City/SEMESTER - 6/BCI/PROJECT/Seed_Dataset/2_20140413.mat\n",
      "E:/IIIT Sri City/SEMESTER - 6/BCI/PROJECT/Seed_Dataset/2_20140419.mat\n",
      "E:/IIIT Sri City/SEMESTER - 6/BCI/PROJECT/Seed_Dataset/3_20140603.mat\n",
      "E:/IIIT Sri City/SEMESTER - 6/BCI/PROJECT/Seed_Dataset/3_20140611.mat\n",
      "E:/IIIT Sri City/SEMESTER - 6/BCI/PROJECT/Seed_Dataset/3_20140629.mat\n",
      "E:/IIIT Sri City/SEMESTER - 6/BCI/PROJECT/Seed_Dataset/4_20140621.mat\n",
      "E:/IIIT Sri City/SEMESTER - 6/BCI/PROJECT/Seed_Dataset/4_20140702.mat\n",
      "E:/IIIT Sri City/SEMESTER - 6/BCI/PROJECT/Seed_Dataset/4_20140705.mat\n",
      "E:/IIIT Sri City/SEMESTER - 6/BCI/PROJECT/Seed_Dataset/5_20140411.mat\n",
      "E:/IIIT Sri City/SEMESTER - 6/BCI/PROJECT/Seed_Dataset/5_20140418.mat\n",
      "E:/IIIT Sri City/SEMESTER - 6/BCI/PROJECT/Seed_Dataset/5_20140506.mat\n",
      "E:/IIIT Sri City/SEMESTER - 6/BCI/PROJECT/Seed_Dataset/6_20130712.mat\n",
      "E:/IIIT Sri City/SEMESTER - 6/BCI/PROJECT/Seed_Dataset/6_20131016.mat\n",
      "E:/IIIT Sri City/SEMESTER - 6/BCI/PROJECT/Seed_Dataset/6_20131113.mat\n",
      "E:/IIIT Sri City/SEMESTER - 6/BCI/PROJECT/Seed_Dataset/7_20131027.mat\n",
      "E:/IIIT Sri City/SEMESTER - 6/BCI/PROJECT/Seed_Dataset/7_20131030.mat\n",
      "E:/IIIT Sri City/SEMESTER - 6/BCI/PROJECT/Seed_Dataset/7_20131106.mat\n",
      "E:/IIIT Sri City/SEMESTER - 6/BCI/PROJECT/Seed_Dataset/8_20140511.mat\n",
      "E:/IIIT Sri City/SEMESTER - 6/BCI/PROJECT/Seed_Dataset/8_20140514.mat\n",
      "E:/IIIT Sri City/SEMESTER - 6/BCI/PROJECT/Seed_Dataset/8_20140521.mat\n",
      "E:/IIIT Sri City/SEMESTER - 6/BCI/PROJECT/Seed_Dataset/9_20140620.mat\n",
      "E:/IIIT Sri City/SEMESTER - 6/BCI/PROJECT/Seed_Dataset/9_20140627.mat\n",
      "E:/IIIT Sri City/SEMESTER - 6/BCI/PROJECT/Seed_Dataset/9_20140704.mat\n",
      "E:/IIIT Sri City/SEMESTER - 6/BCI/PROJECT/Seed_Dataset/label.mat\n"
     ]
    }
   ],
   "source": [
    "import os\n",
    "import scipy.io\n",
    "import numpy as np\n",
    "\n",
    "# Path to the parent folder containing subfolders with .mat files\n",
    "parent_folder_path = \"E:/IIIT Sri City/SEMESTER - 6/BCI/PROJECT/Seed_Dataset/\"\n",
    "\n",
    "# Create empty lists to store lists of features, file names, and labels\n",
    "data_list = []\n",
    "file_names = []\n",
    "labels = []\n",
    "\n",
    "# Iterate over each subfolder in the parent folder\n",
    "for subfolder_name in os.listdir(parent_folder_path):\n",
    "    subfolder_path = os.path.join(parent_folder_path, subfolder_name)\n",
    "    print(subfolder_path)\n",
    "    # Check if the item is a folder\n",
    "    if os.path.isdir(subfolder_path):\n",
    "        # Iterate over each file in the subfolder\n",
    "        for file_name in os.listdir(subfolder_path):\n",
    "            # Check if the file is a .mat file\n",
    "            if file_name.endswith('.mat'):\n",
    "                # Construct the full path to the file\n",
    "                file_path = os.path.join(subfolder_path, file_name)\n",
    "                \n",
    "                # Load the .mat file\n",
    "                mat_data = scipy.io.loadmat(file_path)\n",
    "                \n",
    "                # Iterate over each key in the .mat file\n",
    "                for key in mat_data.keys():\n",
    "                    # Exclude meta keys\n",
    "                    if key not in ['__header__', '__version__', '__globals__']:\n",
    "                        # Get the data corresponding to the key\n",
    "                        data = mat_data[key]\n",
    "                        row_wise_diff = []\n",
    "                        # Access each row of data\n",
    "                        for row in data: \n",
    "                            row_wise_diff.extend(split_signal_into_bands_and_apen(row, 200))\n",
    "                            \n",
    "                        data_list.append(row_wise_diff)\n",
    "                        file_names.append(file_name)\n",
    "                        index = file_name.index('_')\n",
    "                        labels.append(int(file_name[0:index]))\n"
   ]
  },
  {
   "cell_type": "code",
   "execution_count": 1,
   "id": "aa86f2b2",
   "metadata": {},
   "outputs": [
    {
     "data": {
      "text/plain": [
       "(62, 47001)"
      ]
     },
     "execution_count": 1,
     "metadata": {},
     "output_type": "execute_result"
    }
   ],
   "source": [
    "import scipy.io\n",
    "from Data_Preprocess import DE_PSD\n",
    "data = scipy.io.loadmat('1_20131027.mat')\n",
    "delta_params = {'stftn' : 200, 'fStart' : 1, 'fEnd' : 3, 'fs' : 512, 'window' : 1}\n",
    "sample = data['djc_eeg1']\n",
    "sample.shape\n",
    "\n",
    "\n",
    "\n",
    "'''\n",
    "    compute DE and PSD\n",
    "    --------\n",
    "    input:  data [n*m]          n electrodes, m time points\n",
    "            freq_params.stftn     frequency domain sampling rate\n",
    "            freq_params.fStart    start frequency of each frequency band\n",
    "            freq_params.fEnd      end frequency of each frequency band\n",
    "            freq_params.window    window length of each sample point(seconds)\n",
    "            freq_params.fs        original frequency\n",
    "    output: psd,DE [n*l*k]        n electrodes, l windows, k frequency bands\n",
    "    '''"
   ]
  },
  {
   "cell_type": "code",
   "execution_count": 2,
   "id": "1b805c83",
   "metadata": {},
   "outputs": [],
   "source": [
    "freq_params = {\n",
    "    'stftn': 512,              # Sample rate in frequency domain\n",
    "    'fStart': [2, 5, 10],       # Start frequency of each band\n",
    "    'fEnd': [4, 8, 15],         # End frequency of each band\n",
    "    'fs': 1000,                 # Original frequency\n",
    "    'window': 0.5               # Window length in seconds\n",
    "}"
   ]
  },
  {
   "cell_type": "code",
   "execution_count": 3,
   "id": "58a3b381",
   "metadata": {},
   "outputs": [
    {
     "ename": "TypeError",
     "evalue": "'int' object is not subscriptable",
     "output_type": "error",
     "traceback": [
      "\u001b[1;31m---------------------------------------------------------------------------\u001b[0m",
      "\u001b[1;31mTypeError\u001b[0m                                 Traceback (most recent call last)",
      "Cell \u001b[1;32mIn[3], line 1\u001b[0m\n\u001b[1;32m----> 1\u001b[0m temp, de \u001b[38;5;241m=\u001b[39m \u001b[43mDE_PSD\u001b[49m\u001b[43m(\u001b[49m\u001b[43msample\u001b[49m\u001b[43m,\u001b[49m\u001b[43m \u001b[49m\u001b[43mdelta_params\u001b[49m\u001b[43m)\u001b[49m\n",
      "File \u001b[1;32me:\\IIIT Sri City\\SEMESTER - 6\\BCI\\PROJECT\\Experiment\\Data_Preprocess.py:33\u001b[0m, in \u001b[0;36mDE_PSD\u001b[1;34m(data, freq_params)\u001b[0m\n\u001b[0;32m     31\u001b[0m fEndNum\u001b[38;5;241m=\u001b[39mnp\u001b[38;5;241m.\u001b[39mzeros([fEnd],dtype\u001b[38;5;241m=\u001b[39m\u001b[38;5;28mint\u001b[39m)\n\u001b[0;32m     32\u001b[0m \u001b[38;5;28;01mfor\u001b[39;00m i \u001b[38;5;129;01min\u001b[39;00m \u001b[38;5;28mrange\u001b[39m(\u001b[38;5;241m0\u001b[39m,fStart):\n\u001b[1;32m---> 33\u001b[0m     fStartNum[i]\u001b[38;5;241m=\u001b[39m\u001b[38;5;28mint\u001b[39m(\u001b[43mfStart\u001b[49m\u001b[43m[\u001b[49m\u001b[43mi\u001b[49m\u001b[43m]\u001b[49m\u001b[38;5;241m/\u001b[39mfs\u001b[38;5;241m*\u001b[39mSTFTN)\n\u001b[0;32m     34\u001b[0m     fEndNum[i]\u001b[38;5;241m=\u001b[39m\u001b[38;5;28mint\u001b[39m(fEnd[i]\u001b[38;5;241m/\u001b[39mfs\u001b[38;5;241m*\u001b[39mSTFTN)\n\u001b[0;32m     36\u001b[0m \u001b[38;5;66;03m#print(fStartNum[0],fEndNum[0])\u001b[39;00m\n",
      "\u001b[1;31mTypeError\u001b[0m: 'int' object is not subscriptable"
     ]
    }
   ],
   "source": [
    "temp, de = DE_PSD(sample, delta_params)"
   ]
  },
  {
   "cell_type": "code",
   "execution_count": 9,
   "id": "ae1f36bd",
   "metadata": {},
   "outputs": [],
   "source": [
    "# labels = [1, 0, -1, -1, 0, 1, -1, 0, 1, 1, 0, -1, 0, 1, -1]\n",
    "labels = [2, 1, 0, 0, 1, 2, 0, 1, 2, 2, 1, 0, 1, 2, 0]"
   ]
  },
  {
   "cell_type": "code",
   "execution_count": 10,
   "id": "78ccdf67",
   "metadata": {},
   "outputs": [],
   "source": [
    "data = scipy.io.loadmat('E:/IIIT Sri City/SEMESTER - 6/BCI/PROJECT/SEED_Dataset/1_20131027.mat')"
   ]
  },
  {
   "cell_type": "code",
   "execution_count": 11,
   "id": "1baa866b",
   "metadata": {},
   "outputs": [
    {
     "data": {
      "text/plain": [
       "(62, 235, 5)"
      ]
     },
     "execution_count": 11,
     "metadata": {},
     "output_type": "execute_result"
    }
   ],
   "source": [
    "data['de_LDS1'].shape"
   ]
  },
  {
   "cell_type": "code",
   "execution_count": 12,
   "id": "8bd59863",
   "metadata": {},
   "outputs": [
    {
     "ename": "SyntaxError",
     "evalue": "expected ':' (1816844243.py, line 1)",
     "output_type": "error",
     "traceback": [
      "\u001b[1;36m  Cell \u001b[1;32mIn[12], line 1\u001b[1;36m\u001b[0m\n\u001b[1;33m    for i in range()\u001b[0m\n\u001b[1;37m                    ^\u001b[0m\n\u001b[1;31mSyntaxError\u001b[0m\u001b[1;31m:\u001b[0m expected ':'\n"
     ]
    }
   ],
   "source": [
    "for i in range()"
   ]
  },
  {
   "cell_type": "code",
   "execution_count": 13,
   "id": "8d1a973d",
   "metadata": {},
   "outputs": [],
   "source": [
    "file_names = ['1_20131027', '1_20131030', '1_20131107', \n",
    "'2_20140404', '2_20140413', '2_20140419',\n",
    "'3_20140603', '3_20140611', '3_20140629',\n",
    "'4_20140621', '4_20140702', '4_20140705',         \n",
    "'5_20140411', '5_20140418', '5_20140506',         \n",
    "'6_20130712', '6_20131016', '6_20131113',\n",
    "'7_20131027', '7_20131030', '7_20131106',\n",
    "'8_20140511', '8_20140514', '8_20140521',\n",
    "'9_20140620', '9_20140627', '9_20140704',\n",
    "'10_20131130', '10_20131204', '10_20131211',\n",
    "'11_20140618', '11_20140625', '11_20140630',   \n",
    "'12_20131127', '12_20131201', '12_20131207',\n",
    "'13_20140527', '13_20140603', '13_20140610',   \n",
    "'14_20140601', '14_20140615', '14_20140627',   \n",
    "'15_20130709', '15_20131016', '15_20131105',\n",
    "]"
   ]
  },
  {
   "cell_type": "code",
   "execution_count": 14,
   "id": "5256bfdc",
   "metadata": {},
   "outputs": [
    {
     "data": {
      "text/plain": [
       "675"
      ]
     },
     "execution_count": 14,
     "metadata": {},
     "output_type": "execute_result"
    }
   ],
   "source": [
    "Total_Labels = []\n",
    "\n",
    "for i in range(45):\n",
    "    Total_Labels.extend(labels)\n",
    "\n",
    "len(Total_Labels)"
   ]
  },
  {
   "cell_type": "code",
   "execution_count": 15,
   "id": "bb548982",
   "metadata": {},
   "outputs": [],
   "source": [
    "Total_Data = np.zeros((675, 62, 265, 5))\n",
    "\n",
    "\n",
    "\n",
    "def pad_data(data):\n",
    "    desired_length = 265\n",
    "    current_length = data.shape[1]\n",
    "\n",
    "    if current_length < desired_length:\n",
    "        num_zeros = desired_length - current_length\n",
    "        padded_data = np.zeros((data.shape[0], desired_length, data.shape[2]), dtype=data.dtype)\n",
    "        padded_data[:, :current_length, :] = data\n",
    "        return padded_data\n",
    "    else:\n",
    "        return data\n",
    "    \n",
    "\n",
    "\n",
    "index = 0\n",
    "for mat_file in file_names:\n",
    "    filee = f\"E:/IIIT Sri City/SEMESTER - 6/BCI/PROJECT/SEED_Dataset/{mat_file}.mat\"\n",
    "    signal = scipy.io.loadmat(filee)\n",
    "\n",
    "    for i in range(1, 16, 1):\n",
    "        name = 'de_LDS' + str(i)\n",
    "        signal_features = signal[name]\n",
    "        padded_data = pad_data(signal_features)\n",
    "        Total_Data[index] = padded_data\n",
    "        index = index + 1"
   ]
  },
  {
   "cell_type": "code",
   "execution_count": 16,
   "id": "e917b321",
   "metadata": {},
   "outputs": [
    {
     "name": "stdout",
     "output_type": "stream",
     "text": [
      "675\n",
      "(675, 62, 265, 5)\n"
     ]
    }
   ],
   "source": [
    "print(len(Total_Labels))\n",
    "print(Total_Data.shape)"
   ]
  },
  {
   "cell_type": "code",
   "execution_count": 18,
   "id": "42a54601",
   "metadata": {},
   "outputs": [
    {
     "data": {
      "text/plain": [
       "(675, 5, 62, 265)"
      ]
     },
     "execution_count": 18,
     "metadata": {},
     "output_type": "execute_result"
    }
   ],
   "source": [
    "reshaped_data = np.transpose(Total_Data, (0, 3, 1, 2))  # Transpose to move the last dimension to the 2nd dimension\n",
    "reshaped_data.shape"
   ]
  },
  {
   "cell_type": "code",
   "execution_count": 19,
   "id": "de6fc8f6",
   "metadata": {},
   "outputs": [],
   "source": [
    "import h5py\n",
    "\n",
    "with h5py.File('SEED_DE.h5', 'w') as f:\n",
    "    f.create_dataset('key1', data = reshaped_data)\n",
    "    f.create_dataset('key2', data = Total_Labels)"
   ]
  }
 ],
 "metadata": {
  "kernelspec": {
   "display_name": "Python 3 (ipykernel)",
   "language": "python",
   "name": "python3"
  },
  "language_info": {
   "codemirror_mode": {
    "name": "ipython",
    "version": 3
   },
   "file_extension": ".py",
   "mimetype": "text/x-python",
   "name": "python",
   "nbconvert_exporter": "python",
   "pygments_lexer": "ipython3",
   "version": "3.11.3"
  }
 },
 "nbformat": 4,
 "nbformat_minor": 5
}
